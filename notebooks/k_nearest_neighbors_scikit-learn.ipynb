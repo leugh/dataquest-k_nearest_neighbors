{
 "cells": [
  {
   "cell_type": "markdown",
   "id": "cd274d59",
   "metadata": {},
   "source": [
    "# Readme"
   ]
  },
  {
   "cell_type": "markdown",
   "id": "1b8d73c4",
   "metadata": {},
   "source": [
    "Uses scikit-learn to use KNN to predict housing prices\n",
    "\n",
    "***\n",
    "\n",
    "First two columns, but mostly hardcoded\n",
    "Then, four columns but parametrized"
   ]
  },
  {
   "cell_type": "markdown",
   "id": "a9f89bd0",
   "metadata": {},
   "source": [
    "# General code"
   ]
  },
  {
   "cell_type": "markdown",
   "id": "0e262016",
   "metadata": {},
   "source": [
    "## Import"
   ]
  },
  {
   "cell_type": "code",
   "execution_count": 1,
   "id": "18605186",
   "metadata": {},
   "outputs": [],
   "source": [
    "from sklearn.neighbors import KNeighborsRegressor\n",
    "from sklearn.model_selection import train_test_split\n",
    "from sklearn.metrics import mean_squared_error, mean_absolute_error\n",
    "import pandas as pd\n",
    "import numpy as np"
   ]
  },
  {
   "cell_type": "markdown",
   "id": "e76b0b52",
   "metadata": {},
   "source": [
    "## Get data (train + test)"
   ]
  },
  {
   "cell_type": "code",
   "execution_count": 2,
   "id": "a7ac88a9",
   "metadata": {},
   "outputs": [
    {
     "name": "stdout",
     "output_type": "stream",
     "text": [
      "<class 'pandas.core.frame.DataFrame'>\n",
      "RangeIndex: 3671 entries, 0 to 3670\n",
      "Data columns (total 9 columns):\n",
      "Unnamed: 0           3671 non-null int64\n",
      "accommodates         3671 non-null float64\n",
      "bedrooms             3671 non-null float64\n",
      "bathrooms            3671 non-null float64\n",
      "beds                 3671 non-null float64\n",
      "price                3671 non-null float64\n",
      "minimum_nights       3671 non-null float64\n",
      "maximum_nights       3671 non-null float64\n",
      "number_of_reviews    3671 non-null float64\n",
      "dtypes: float64(8), int64(1)\n",
      "memory usage: 258.2 KB\n"
     ]
    }
   ],
   "source": [
    "normalized_listings = pd.read_csv('../data/normalized_listings.csv')\n",
    "normalized_listings.info()\n",
    "normalized_listings.describe()\n",
    "\n",
    "train_df, test_df = train_test_split(normalized_listings, random_state=1, train_size=0.760555706891855)"
   ]
  },
  {
   "cell_type": "markdown",
   "id": "630be2bc",
   "metadata": {},
   "source": [
    "***"
   ]
  },
  {
   "cell_type": "markdown",
   "id": "b825b51e",
   "metadata": {},
   "source": [
    "# Hardcoded version with two features"
   ]
  },
  {
   "cell_type": "markdown",
   "id": "ca3e3407",
   "metadata": {},
   "source": [
    "## Fit the model for two features"
   ]
  },
  {
   "cell_type": "code",
   "execution_count": 3,
   "id": "7a610519",
   "metadata": {},
   "outputs": [],
   "source": [
    "# setups\n",
    "feature_columns = ['accommodates', 'bathrooms']\n",
    "target_column = 'price'"
   ]
  },
  {
   "cell_type": "code",
   "execution_count": 4,
   "id": "9677b78b",
   "metadata": {},
   "outputs": [
    {
     "data": {
      "text/plain": [
       "KNeighborsRegressor(algorithm='brute')"
      ]
     },
     "execution_count": 4,
     "metadata": {},
     "output_type": "execute_result"
    }
   ],
   "source": [
    "knn = KNeighborsRegressor(n_neighbors=5, algorithm='brute')\n",
    "\n",
    "knn.fit(train_df[feature_columns], train_df[target_column])"
   ]
  },
  {
   "cell_type": "markdown",
   "id": "b3dd46ea",
   "metadata": {},
   "source": [
    "## Predict"
   ]
  },
  {
   "cell_type": "code",
   "execution_count": 5,
   "id": "608805b7",
   "metadata": {},
   "outputs": [],
   "source": [
    "predicted_values = knn.predict(test_df[feature_columns])"
   ]
  },
  {
   "cell_type": "markdown",
   "id": "b1ae2d0f",
   "metadata": {},
   "source": [
    "## Evalute"
   ]
  },
  {
   "cell_type": "code",
   "execution_count": 6,
   "id": "034928b6",
   "metadata": {},
   "outputs": [
    {
     "name": "stdout",
     "output_type": "stream",
     "text": [
      "13074.825620022753\n",
      "114.34520374734899\n",
      "60.32\n"
     ]
    }
   ],
   "source": [
    "true_values = test_df[target_column]\n",
    "\n",
    "two_features_mse = mean_squared_error(true_values, predicted_values)\n",
    "two_features_rmse = (mean_squared_error(true_values, predicted_values))**(1/2)\n",
    "two_features_mae = round(mean_absolute_error(true_values, predicted_values), 2)\n",
    "\n",
    "\n",
    "assert two_features_rmse == mean_squared_error(true_values, predicted_values, squared=False)\n",
    "\n",
    "# mae_manuel = round(sum(np.abs(true_values - predicted_values))/len(predicted_values), 2)\n",
    "# assert mae_manuel == mae\n",
    "\n",
    "\n",
    "print(two_features_mse)\n",
    "print(two_features_rmse)\n",
    "print(two_features_mae)"
   ]
  },
  {
   "cell_type": "markdown",
   "id": "721c641e",
   "metadata": {},
   "source": [
    "***"
   ]
  },
  {
   "cell_type": "markdown",
   "id": "bfa3ca65",
   "metadata": {},
   "source": [
    "# Parametrized version\n",
    "* KNN with k = 5\n",
    "* algo = 'brute'\n",
    "* features = ['accommodates, 'bedrooms', 'bathrooms', 'number_of_reviews']\n",
    "* target_column = 'price'\n",
    "* assign predicted price to four_predictions\n",
    "* calc mse + rmse"
   ]
  },
  {
   "cell_type": "code",
   "execution_count": 7,
   "id": "aa4b74a0",
   "metadata": {},
   "outputs": [],
   "source": [
    "def get_eval(train_data, test_data, feature_columns, target_column):\n",
    "    train_df = train_data.copy()\n",
    "    test_df = test_data.copy()\n",
    "    \n",
    "    knn = KNeighborsRegressor(n_neighbors=5, algorithm = 'brute')\n",
    "    knn.fit(train_df[feature_columns], train_df[target_column])\n",
    "    four_predictions = knn.predict(test_df[feature_columns])\n",
    "    \n",
    "    mse = mean_squared_error(test_df[target_column], four_predictions)\n",
    "    return mse,  mse**(1/2)"
   ]
  },
  {
   "cell_type": "code",
   "execution_count": 8,
   "id": "e7e03756",
   "metadata": {},
   "outputs": [],
   "source": [
    "target_column = 'price'"
   ]
  },
  {
   "cell_type": "markdown",
   "id": "2761ff19",
   "metadata": {},
   "source": [
    "## Predict and compare"
   ]
  },
  {
   "cell_type": "markdown",
   "id": "bda4a9ba",
   "metadata": {},
   "source": [
    "### Four Features"
   ]
  },
  {
   "cell_type": "code",
   "execution_count": 9,
   "id": "653334d1",
   "metadata": {},
   "outputs": [
    {
     "name": "stdout",
     "output_type": "stream",
     "text": [
      "12668.449647326508 112.55420759494737\n"
     ]
    }
   ],
   "source": [
    "mse, rmse = get_eval(train_df, test_df, ['accommodates', 'bedrooms', 'bathrooms', 'number_of_reviews'], target_column)\n",
    "    \n",
    "print(mse, rmse)"
   ]
  },
  {
   "cell_type": "markdown",
   "id": "6def6436",
   "metadata": {},
   "source": [
    "### One feature"
   ]
  },
  {
   "cell_type": "code",
   "execution_count": 10,
   "id": "f0426474",
   "metadata": {},
   "outputs": [
    {
     "name": "stdout",
     "output_type": "stream",
     "text": [
      "15169.445733788392 123.16430381319253\n"
     ]
    }
   ],
   "source": [
    "mse, rmse = get_eval(train_df, test_df, ['accommodates'], target_column)\n",
    "    \n",
    "print(mse, rmse)"
   ]
  },
  {
   "cell_type": "markdown",
   "id": "04f3a69e",
   "metadata": {},
   "source": [
    "### One features"
   ]
  },
  {
   "cell_type": "code",
   "execution_count": 11,
   "id": "48971719",
   "metadata": {},
   "outputs": [
    {
     "name": "stdout",
     "output_type": "stream",
     "text": [
      "13440.215199089875 115.93194210005228\n"
     ]
    }
   ],
   "source": [
    "mse, rmse = get_eval(train_df, test_df, ['bathrooms'], target_column)\n",
    "    \n",
    "print(mse, rmse)"
   ]
  },
  {
   "cell_type": "markdown",
   "id": "150d4022",
   "metadata": {},
   "source": [
    "### Two features"
   ]
  },
  {
   "cell_type": "code",
   "execution_count": 12,
   "id": "486b9056",
   "metadata": {},
   "outputs": [
    {
     "name": "stdout",
     "output_type": "stream",
     "text": [
      "13074.825620022753 114.34520374734899\n"
     ]
    }
   ],
   "source": [
    "mse, rmse = get_eval(train_df, test_df, ['accommodates', 'bathrooms'], target_column)\n",
    "    \n",
    "print(mse, rmse)"
   ]
  },
  {
   "cell_type": "markdown",
   "id": "f4153c54",
   "metadata": {},
   "source": [
    "### All features"
   ]
  },
  {
   "cell_type": "code",
   "execution_count": 18,
   "id": "0e8744a2",
   "metadata": {},
   "outputs": [
    {
     "name": "stdout",
     "output_type": "stream",
     "text": [
      "11195.285415244598 105.80777577874227\n"
     ]
    }
   ],
   "source": [
    "features = train_df.columns.tolist()\n",
    "features.remove('price')\n",
    "features.remove('Unnamed: 0')\n",
    "\n",
    "mse, rmse = get_eval(train_df, test_df, features, target_column)\n",
    "    \n",
    "print(mse, rmse)"
   ]
  },
  {
   "cell_type": "code",
   "execution_count": null,
   "id": "dd6e655f",
   "metadata": {},
   "outputs": [],
   "source": []
  },
  {
   "cell_type": "code",
   "execution_count": null,
   "id": "a29c30ec",
   "metadata": {},
   "outputs": [],
   "source": []
  }
 ],
 "metadata": {
  "kernelspec": {
   "display_name": "Python 3",
   "language": "python",
   "name": "python3"
  },
  "language_info": {
   "codemirror_mode": {
    "name": "ipython",
    "version": 3
   },
   "file_extension": ".py",
   "mimetype": "text/x-python",
   "name": "python",
   "nbconvert_exporter": "python",
   "pygments_lexer": "ipython3",
   "version": "3.7.9"
  }
 },
 "nbformat": 4,
 "nbformat_minor": 5
}
