{
 "cells": [
  {
   "cell_type": "markdown",
   "id": "a570e579",
   "metadata": {},
   "source": [
    "# Readme\n",
    "Predicting house prices by using on k-fold-cross validation (manually)"
   ]
  },
  {
   "cell_type": "markdown",
   "id": "916083d7",
   "metadata": {},
   "source": [
    "# Imports"
   ]
  },
  {
   "cell_type": "code",
   "execution_count": 242,
   "id": "0bb7f242",
   "metadata": {},
   "outputs": [],
   "source": [
    "import pandas as pd\n",
    "import math\n",
    "import numpy as np\n",
    "\n",
    "from sklearn.neighbors import KNeighborsRegressor\n",
    "import matplotlib.pyplot as plt\n",
    "from sklearn.metrics import mean_squared_error"
   ]
  },
  {
   "cell_type": "markdown",
   "id": "b2f850cd",
   "metadata": {},
   "source": [
    "# Get + clean the data"
   ]
  },
  {
   "cell_type": "code",
   "execution_count": 5,
   "id": "51c2d575",
   "metadata": {},
   "outputs": [],
   "source": [
    "# load the data\n",
    "dc_listings = pd.read_csv('../data/dc_airbnb.csv')"
   ]
  },
  {
   "cell_type": "code",
   "execution_count": null,
   "id": "ac54770d",
   "metadata": {},
   "outputs": [],
   "source": [
    "# clean it\n",
    "stripped_commas = dc_listings['price'].str.replace(',', '')\n",
    "stripped_dollars = stripped_commas.str.replace('$', '')\n",
    "dc_listings['price'] = stripped_dollars.astype('float')"
   ]
  },
  {
   "cell_type": "code",
   "execution_count": 136,
   "id": "66aa6fb9",
   "metadata": {},
   "outputs": [],
   "source": [
    "# shuffe\n",
    "dc_listings = dc_listings.loc[np.random.permutation(len(dc_listings))]\n",
    "\n",
    "dc_listings.reset_index(drop=True, inplace=True)"
   ]
  },
  {
   "cell_type": "code",
   "execution_count": 24,
   "id": "069d5f0d",
   "metadata": {},
   "outputs": [],
   "source": [
    "# get train + test\n",
    "split_one = dc_listings[0:1862]\n",
    "\n",
    "split_two = dc_listings[1862:]\n",
    "\n",
    "\n",
    "# set one\n",
    "train_one = split_one\n",
    "test_one = split_two\n",
    "\n",
    "# set two\n",
    "train_two = split_two\n",
    "test_two = split_one"
   ]
  },
  {
   "cell_type": "markdown",
   "id": "a866ff6f",
   "metadata": {},
   "source": [
    "# Define Functions"
   ]
  },
  {
   "cell_type": "code",
   "execution_count": 34,
   "id": "2aa1de70",
   "metadata": {},
   "outputs": [],
   "source": [
    "def get_rmse(features, train_data, test_data, target_column):\n",
    "    knn = KNeighborsRegressor()\n",
    "    knn.fit(train_data[features], train_data[target_column])\n",
    "    predictions = knn.predict(test_data[features])\n",
    "    \n",
    "    return (mean_squared_error(test_data[target_column], predictions))**(1/2)"
   ]
  },
  {
   "cell_type": "markdown",
   "id": "ddee2242",
   "metadata": {},
   "source": [
    "# 2-fold cross-validation with set_one + set_two\n",
    "* one feature: accommodates \n",
    "* k = 5\n",
    "* algo = 'auto'"
   ]
  },
  {
   "cell_type": "markdown",
   "id": "aa9f6981",
   "metadata": {},
   "source": [
    "## General stuff"
   ]
  },
  {
   "cell_type": "code",
   "execution_count": 32,
   "id": "f2efe005",
   "metadata": {},
   "outputs": [],
   "source": [
    "target_column = 'price'\n",
    "features = ['accommodates']"
   ]
  },
  {
   "cell_type": "markdown",
   "id": "3571b413",
   "metadata": {},
   "source": [
    "***"
   ]
  },
  {
   "cell_type": "markdown",
   "id": "6bb83fae",
   "metadata": {},
   "source": [
    "## Iteration One"
   ]
  },
  {
   "cell_type": "code",
   "execution_count": 40,
   "id": "caccf623",
   "metadata": {},
   "outputs": [
    {
     "name": "stdout",
     "output_type": "stream",
     "text": [
      "133.1814886130524\n"
     ]
    }
   ],
   "source": [
    "iteration_one_rmse = get_rmse(features, train_one, test_one, target_column)\n",
    "\n",
    "print(iteration_one_rmse)"
   ]
  },
  {
   "cell_type": "markdown",
   "id": "13b0d798",
   "metadata": {},
   "source": [
    "## Iteration Two"
   ]
  },
  {
   "cell_type": "code",
   "execution_count": 41,
   "id": "45765b30",
   "metadata": {},
   "outputs": [
    {
     "name": "stdout",
     "output_type": "stream",
     "text": [
      "128.30212631759252\n"
     ]
    }
   ],
   "source": [
    "iteration_two_rmse = get_rmse(features, train_two, test_two, target_column)\n",
    "\n",
    "print(iteration_two_rmse)"
   ]
  },
  {
   "cell_type": "markdown",
   "id": "0ab6d424",
   "metadata": {},
   "source": [
    "## Get avg"
   ]
  },
  {
   "cell_type": "code",
   "execution_count": 50,
   "id": "d06d4e73",
   "metadata": {},
   "outputs": [
    {
     "data": {
      "text/plain": [
       "130.74180746532247"
      ]
     },
     "execution_count": 50,
     "metadata": {},
     "output_type": "execute_result"
    }
   ],
   "source": [
    "avg_rmse = np.mean([iteration_one_rmse, iteration_two_rmse])\n",
    "\n",
    "avg_rmse"
   ]
  },
  {
   "cell_type": "markdown",
   "id": "124d8f5f",
   "metadata": {},
   "source": [
    "# 5-fold cross-validation\n",
    "Assign each row in the core dataset its corresponding fold"
   ]
  },
  {
   "cell_type": "markdown",
   "id": "06886108",
   "metadata": {},
   "source": [
    "## Assign the folds"
   ]
  },
  {
   "cell_type": "code",
   "execution_count": 144,
   "id": "c1ef1594",
   "metadata": {},
   "outputs": [
    {
     "name": "stdout",
     "output_type": "stream",
     "text": [
      "{1: {'from': 0, 'to': 744}, 2: {'from': 745, 'to': 1489}, 3: {'from': 1490, 'to': 2233}, 4: {'from': 2234, 'to': 2977}, 5: {'from': 2978, 'to': 3722}}\n"
     ]
    }
   ],
   "source": [
    "# manually define the folds with its from/to indices for pandas \n",
    "\n",
    "fold_ranges = {\n",
    "    1: {\n",
    "        'from': 0\n",
    "        , 'to': 744\n",
    "    }\n",
    "    , 2: {\n",
    "        'from': 745\n",
    "        , 'to': 1489\n",
    "    }\n",
    "    , 3: {\n",
    "        'from': 1490\n",
    "        , 'to': 2233\n",
    "    }\n",
    "    , 4: {\n",
    "        'from': 2234\n",
    "        , 'to': 2977\n",
    "    }\n",
    "    , 5: {\n",
    "        'from': 2978\n",
    "        , 'to': 3722\n",
    "    }\n",
    "}\n",
    "\n",
    "# assign the indices to the data\n",
    "for fold, ranges in fold_ranges.items():\n",
    "    dc_listings.loc[ranges.get('from'):ranges.get('to'), 'fold'] = fold"
   ]
  },
  {
   "cell_type": "markdown",
   "id": "9174199f",
   "metadata": {},
   "source": [
    "## Check if the folds make sense"
   ]
  },
  {
   "cell_type": "code",
   "execution_count": 146,
   "id": "22733ec4",
   "metadata": {},
   "outputs": [
    {
     "data": {
      "text/plain": [
       "5.0    745\n",
       "2.0    745\n",
       "1.0    745\n",
       "4.0    744\n",
       "3.0    744\n",
       "Name: fold, dtype: int64"
      ]
     },
     "execution_count": 146,
     "metadata": {},
     "output_type": "execute_result"
    }
   ],
   "source": [
    "# each fold should have roughly same size\n",
    "dc_listings.fold.value_counts()"
   ]
  },
  {
   "cell_type": "code",
   "execution_count": 158,
   "id": "255b6d45",
   "metadata": {},
   "outputs": [],
   "source": [
    "# each column should have one fold\n",
    "\n",
    "# calc number of nulls\n",
    "assert  (dc_listings.fold.isna().sum() / dc_listings.shape[0])*100 == 0"
   ]
  },
  {
   "cell_type": "markdown",
   "id": "c8815ec4",
   "metadata": {},
   "source": [
    "# Run k-fold cross validation where\n",
    "* k = 5\n",
    "* features = ['accommodats']\n",
    "* test_fold = 1\n",
    "* iteration_one_rmse holds the rmse\n",
    "* target_column = 'price'"
   ]
  },
  {
   "cell_type": "code",
   "execution_count": 215,
   "id": "9d7353cf",
   "metadata": {},
   "outputs": [],
   "source": [
    "all_folds = [x for x in range(1, 6)]"
   ]
  },
  {
   "cell_type": "code",
   "execution_count": 182,
   "id": "26a519f1",
   "metadata": {},
   "outputs": [],
   "source": [
    "test_fold = 1\n",
    "train_folds = all_folds\n",
    "train_folds.remove(test_fold)\n",
    "\n",
    "train_set = dc_listings[dc_listings['fold'].isin(train_folds)]\n",
    "test_set = dc_listings[dc_listings['fold']==test_fold]\n",
    "\n",
    "assert(train_set.shape[0] + test_set.shape[0] == dc_listings.shape[0])"
   ]
  },
  {
   "cell_type": "code",
   "execution_count": 184,
   "id": "5501b264",
   "metadata": {},
   "outputs": [],
   "source": [
    "target_column = 'price'"
   ]
  },
  {
   "cell_type": "code",
   "execution_count": 187,
   "id": "e7bec8b4",
   "metadata": {},
   "outputs": [
    {
     "name": "stdout",
     "output_type": "stream",
     "text": [
      "130.63924402926142\n"
     ]
    }
   ],
   "source": [
    "knn = KNeighborsRegressor()\n",
    "knn.fit(train_set[features], train_set[target_column])\n",
    "predictions = knn.predict(test_set[features])\n",
    "iteration_one_rmse = (mean_squared_error(test_set[target_column], predictions))**(1/2)\n",
    "\n",
    "print(iteration_one_rmse)"
   ]
  },
  {
   "cell_type": "code",
   "execution_count": 244,
   "id": "ad94bd8b",
   "metadata": {},
   "outputs": [],
   "source": [
    "def train_and_validate(df, folds, features=['accommodates'], target_column='price'):\n",
    "    \"\"\"Trains n models, whereas n = len(folds) and returns a list with rmse for each iteration\n",
    "    df: original df, not splitted\n",
    "    rmse list: contains rmse for each fold\n",
    "    \"\"\"\n",
    "    all_rmse = list()\n",
    "    \n",
    "    core_data = df.copy()\n",
    "    \n",
    "    # split the data\n",
    "    for fold in folds:\n",
    "        # use copy() to assign by value not reference\n",
    "        train_folds = folds.copy()\n",
    "        train_folds.remove(fold)\n",
    "        \n",
    "        train_set = core_data[core_data['fold'].isin(train_folds)]\n",
    "        \n",
    "        # fyi: test_fold = fold\n",
    "        test_set = core_data[core_data['fold']==fold]\n",
    "    \n",
    "        knn = KNeighborsRegressor()\n",
    "        knn.fit(train_set[features], train_set[target_column])\n",
    "        predictions = knn.predict(test_set[features])\n",
    "        all_rmse.append((mean_squared_error(test_set[target_column], predictions))**(1/2))\n",
    "    \n",
    "    return all_rmse"
   ]
  },
  {
   "cell_type": "code",
   "execution_count": 249,
   "id": "15781873",
   "metadata": {},
   "outputs": [
    {
     "name": "stdout",
     "output_type": "stream",
     "text": [
      "[130.63924402926142, 224.59166562554447, 143.65884412253794, 128.6387962182215, 119.75940578997454]\n",
      "149.45759115710797\n"
     ]
    }
   ],
   "source": [
    "rmses = train_and_validate(dc_listings, all_folds)\n",
    "print(rmses)\n",
    "print(np.mean(rmses))"
   ]
  },
  {
   "cell_type": "code",
   "execution_count": 243,
   "id": "dff38e3a",
   "metadata": {},
   "outputs": [
    {
     "data": {
      "text/plain": [
       "<matplotlib.collections.PathCollection at 0x118cfb448c8>"
      ]
     },
     "execution_count": 243,
     "metadata": {},
     "output_type": "execute_result"
    },
    {
     "data": {
      "image/png": "[encoded data removed]",
      "text/plain": [
       "<Figure size 432x288 with 1 Axes>"
      ]
     },
     "metadata": {
      "needs_background": "light"
     },
     "output_type": "display_data"
    }
   ],
   "source": [
    "plt.scatter(all_folds, rmses)"
   ]
  },
  {
   "cell_type": "code",
   "execution_count": null,
   "id": "08452532",
   "metadata": {},
   "outputs": [],
   "source": []
  },
  {
   "cell_type": "code",
   "execution_count": null,
   "id": "3f566bb2",
   "metadata": {},
   "outputs": [],
   "source": []
  },
  {
   "cell_type": "code",
   "execution_count": null,
   "id": "3353a502",
   "metadata": {},
   "outputs": [],
   "source": []
  },
  {
   "cell_type": "code",
   "execution_count": null,
   "id": "4422582d",
   "metadata": {},
   "outputs": [],
   "source": []
  },
  {
   "cell_type": "code",
   "execution_count": null,
   "id": "265286a6",
   "metadata": {},
   "outputs": [],
   "source": []
  },
  {
   "cell_type": "code",
   "execution_count": null,
   "id": "27d46be8",
   "metadata": {},
   "outputs": [],
   "source": []
  },
  {
   "cell_type": "code",
   "execution_count": null,
   "id": "3d8364ed",
   "metadata": {},
   "outputs": [],
   "source": []
  },
  {
   "cell_type": "code",
   "execution_count": null,
   "id": "b93fde91",
   "metadata": {},
   "outputs": [],
   "source": []
  },
  {
   "cell_type": "code",
   "execution_count": null,
   "id": "b1d6b8cc",
   "metadata": {},
   "outputs": [],
   "source": []
  },
  {
   "cell_type": "code",
   "execution_count": null,
   "id": "bc250c5f",
   "metadata": {},
   "outputs": [],
   "source": []
  },
  {
   "cell_type": "code",
   "execution_count": null,
   "id": "b34b7d5e",
   "metadata": {},
   "outputs": [],
   "source": []
  },
  {
   "cell_type": "code",
   "execution_count": null,
   "id": "019f3d7b",
   "metadata": {},
   "outputs": [],
   "source": []
  },
  {
   "cell_type": "code",
   "execution_count": null,
   "id": "29713caf",
   "metadata": {},
   "outputs": [],
   "source": []
  }
 ],
 "metadata": {
  "kernelspec": {
   "display_name": "Python 3",
   "language": "python",
   "name": "python3"
  },
  "language_info": {
   "codemirror_mode": {
    "name": "ipython",
    "version": 3
   },
   "file_extension": ".py",
   "mimetype": "text/x-python",
   "name": "python",
   "nbconvert_exporter": "python",
   "pygments_lexer": "ipython3",
   "version": "3.7.9"
  }
 },
 "nbformat": 4,
 "nbformat_minor": 5
}
