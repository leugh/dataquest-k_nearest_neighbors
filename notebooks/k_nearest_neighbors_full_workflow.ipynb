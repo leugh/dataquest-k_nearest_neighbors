{
 "cells": [
  {
   "cell_type": "markdown",
   "id": "49ef5525",
   "metadata": {},
   "source": [
    "# Readme\n",
    "\n",
    "* Find model that best predicts the housing prices for dc_airbnb_test/dc_airbnb_train\n",
    "* Vizualize KNN-neighbors and MSE\n",
    "* Two features set\n",
    "    * features variant 1: features = ['accommodates', 'bathrooms']\n",
    "    * features variant 2: features = ['accommodates', 'bathrooms', 'bedrooms']\n",
    "* save best KNN-neighbors/MSE combination in dict three_hyp_mse/two_hyp_mse, respectively\n",
    "* KNN-neighbors from 1 to 20"
   ]
  },
  {
   "cell_type": "markdown",
   "id": "6e3563aa",
   "metadata": {},
   "source": [
    "# Import modules"
   ]
  },
  {
   "cell_type": "code",
   "execution_count": 74,
   "id": "6d852cce",
   "metadata": {},
   "outputs": [],
   "source": [
    "import pandas as pd\n",
    "from sklearn.neighbors import KNeighborsRegressor\n",
    "from sklearn.metrics import mean_squared_error"
   ]
  },
  {
   "cell_type": "markdown",
   "id": "4aa4b186",
   "metadata": {},
   "source": [
    "# Get data"
   ]
  },
  {
   "cell_type": "code",
   "execution_count": 75,
   "id": "1171ee3e",
   "metadata": {},
   "outputs": [],
   "source": [
    "train_df = pd.read_csv('../data/dc_airbnb_train.csv')\n",
    "test_df = pd.read_csv('../data/dc_airbnb_test.csv')"
   ]
  },
  {
   "cell_type": "markdown",
   "id": "b36b5592",
   "metadata": {},
   "source": [
    "# Setup"
   ]
  },
  {
   "cell_type": "code",
   "execution_count": 76,
   "id": "bc2729f8",
   "metadata": {},
   "outputs": [],
   "source": [
    "hyper_params = [x for x in range(1, 21)]\n",
    "target_column = 'price'\n",
    "\n",
    "feature_sets = [\n",
    "    ['accommodates', 'bathrooms']\n",
    "    ,  ['accommodates', 'bathrooms', 'bedrooms']\n",
    "]"
   ]
  },
  {
   "cell_type": "markdown",
   "id": "818ab611",
   "metadata": {},
   "source": [
    "# Calc mse based on two feature sets and k from 1 to 20"
   ]
  },
  {
   "cell_type": "code",
   "execution_count": 94,
   "id": "4f7f8512",
   "metadata": {},
   "outputs": [],
   "source": [
    "errors = pd.DataFrame()\n",
    "\n",
    "for features in feature_sets:\n",
    "\n",
    "    for k in hyper_params:\n",
    "        knn = KNeighborsRegressor(n_neighbors=k, algorithm='brute')\n",
    "        knn.fit(train_df[features], train_df[target_column])\n",
    "        predictions = knn.predict(test_df[features])\n",
    "        mse = mean_squared_error(test_df[target_column], predictions)\n",
    "\n",
    "        errors.loc[k, 'k'] = k\n",
    "        errors.loc[k, '_'.join(features)] = mse"
   ]
  },
  {
   "cell_type": "markdown",
   "id": "439abc86",
   "metadata": {},
   "source": [
    "## Get best values"
   ]
  },
  {
   "cell_type": "code",
   "execution_count": 89,
   "id": "a2273b53",
   "metadata": {},
   "outputs": [],
   "source": [
    "two_features = errors[['k', 'accommodates_bathrooms']].sort_values(by=['accommodates_bathrooms']).reset_index(drop=True)\n",
    "three_features = errors[['k', 'accommodates_bathrooms_bedrooms']].sort_values(by=['accommodates_bathrooms_bedrooms']).reset_index(drop=True)"
   ]
  },
  {
   "cell_type": "code",
   "execution_count": 95,
   "id": "aa47aa9f",
   "metadata": {},
   "outputs": [
    {
     "name": "stdout",
     "output_type": "stream",
     "text": [
      "{5.0: 14790.314266211606}\n",
      "{7.0: 13518.769009310208}\n"
     ]
    }
   ],
   "source": [
    "two_hyp_mse = {\n",
    "    two_features.loc[0, 'k']: two_features.loc[0, 'accommodates_bathrooms']\n",
    "}\n",
    "three_hyp_mse = {\n",
    "    three_features.loc[0, 'k']: three_features.loc[0, 'accommodates_bathrooms_bedrooms']\n",
    "}\n",
    "print(two_hyp_mse)\n",
    "print(three_hyp_mse)"
   ]
  }
 ],
 "metadata": {
  "kernelspec": {
   "display_name": "Python 3",
   "language": "python",
   "name": "python3"
  },
  "language_info": {
   "codemirror_mode": {
    "name": "ipython",
    "version": 3
   },
   "file_extension": ".py",
   "mimetype": "text/x-python",
   "name": "python",
   "nbconvert_exporter": "python",
   "pygments_lexer": "ipython3",
   "version": "3.7.9"
  }
 },
 "nbformat": 4,
 "nbformat_minor": 5
}
