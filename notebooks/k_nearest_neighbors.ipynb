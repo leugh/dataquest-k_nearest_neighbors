{
 "cells": [
  {
   "cell_type": "code",
   "execution_count": 104,
   "id": "bce4f9a5",
   "metadata": {},
   "outputs": [],
   "source": [
    "import pandas as pd\n",
    "import math\n",
    "import numpy as np\n",
    "from sklearn.model_selection import train_test_split"
   ]
  },
  {
   "cell_type": "markdown",
   "id": "54e50a85",
   "metadata": {},
   "source": [
    "# Get the data"
   ]
  },
  {
   "cell_type": "code",
   "execution_count": 4,
   "id": "90db464d",
   "metadata": {},
   "outputs": [],
   "source": [
    "listings = pd.read_csv('../data/dc_airbnb.csv')\n",
    "stripped_commas = listings['price'].str.replace(',', '')\n",
    "stripped_dollars = stripped_commas.str.replace('$', '')\n",
    "listings['price'] = stripped_dollars.astype('float')\n",
    "listings = listings[['price', 'accommodates', 'bathrooms']]"
   ]
  },
  {
   "cell_type": "markdown",
   "id": "c5e44125",
   "metadata": {},
   "source": [
    "# Version 1\n",
    "No evaluation"
   ]
  },
  {
   "cell_type": "code",
   "execution_count": null,
   "id": "7308e63a",
   "metadata": {},
   "outputs": [],
   "source": [
    "def predict_price(bedrooms_new_listing, original_data, feature, metric_column_name='euclidean_distance'):\n",
    "    \"\"\"\n",
    "    new_listing int: describes the number of bedrooms\n",
    "    \"\"\"\n",
    "    df = original_data.copy()\n",
    "    df[metric_column_name] = abs(df[feature] - bedrooms_new_listing)\n",
    "    df.sort_values(by=[metric_column_name], inplace=True)\n",
    "    df.reset_index(drop=True, inplace=True)\n",
    "    predicted_price = df[[prediction_column]].loc[0:k-1][prediction_column].mean()\n",
    "    return predicted_price"
   ]
  },
  {
   "cell_type": "code",
   "execution_count": null,
   "id": "c0dd4e34",
   "metadata": {},
   "outputs": [],
   "source": [
    "k = 5\n",
    "bedrooms_new_listing = 3\n",
    "feature = 'accommodates'\n",
    "metric_column_name = 'euclidean_distance'\n",
    "prediction_column = 'price'\n",
    "\n",
    "\n",
    "acc_one = predict_price(1, listings, feature)\n",
    "acc_two = predict_price(2, listings, feature)\n",
    "acc_four = predict_price(4, listings, feature)"
   ]
  },
  {
   "cell_type": "markdown",
   "id": "8384aec6",
   "metadata": {},
   "source": [
    "# Version 2\n",
    "* Based on Version 1 but with evaluation\n",
    "* Predict house prices in test set based on k in train\n",
    "\n",
    "## Steps\n",
    "1. Get train + test data\n",
    "2. Predict\n",
    "3. Evaluate"
   ]
  },
  {
   "cell_type": "markdown",
   "id": "7c23e2ce",
   "metadata": {},
   "source": [
    "## Define functions"
   ]
  },
  {
   "cell_type": "code",
   "execution_count": null,
   "id": "ab14cbbf",
   "metadata": {},
   "outputs": [],
   "source": [
    "def predict_price(new_entry_feature_value):\n",
    "    # get similary\n",
    "    df = test_data.copy()\n",
    "    df[sim_metric] = abs(df[feature_column] - new_entry_feature_value)\n",
    "\n",
    "    # sort and get price based on top k\n",
    "    df.sort_values(by=[sim_metric], inplace=True)\n",
    "    df.reset_index(drop=True, inplace=True)\n",
    "    predicted_price = round(df.loc[0:k-1][prediction_column].mean())\n",
    "    \n",
    "    \n",
    "    return predicted_price"
   ]
  },
  {
   "cell_type": "markdown",
   "id": "2ae449c2",
   "metadata": {},
   "source": [
    "## Prepare the data"
   ]
  },
  {
   "cell_type": "code",
   "execution_count": null,
   "id": "eaa8395c",
   "metadata": {},
   "outputs": [],
   "source": [
    "# split the data\n",
    "train_data, test_data = train_test_split(listings, test_size=0.25)\n",
    "train_data = train_data.copy()\n",
    "test_data = test_data.copy()"
   ]
  },
  {
   "cell_type": "markdown",
   "id": "6ee33503",
   "metadata": {},
   "source": [
    "## Setups"
   ]
  },
  {
   "cell_type": "code",
   "execution_count": null,
   "id": "b05e22bb",
   "metadata": {},
   "outputs": [],
   "source": [
    "# setups\n",
    "feature_column = 'accommodates'\n",
    "new_entry_feature_value = 3\n",
    "k = 5\n",
    "sim_metric = 'distance'\n",
    "prediction_column = 'price'\n",
    "target_column = 'predicted_price'"
   ]
  },
  {
   "cell_type": "markdown",
   "id": "79ca0fde",
   "metadata": {},
   "source": [
    "## Performn the prediction"
   ]
  },
  {
   "cell_type": "code",
   "execution_count": null,
   "id": "ff207fb8",
   "metadata": {},
   "outputs": [],
   "source": [
    "test_data[target_column] = test_data[feature_column].apply(predict_price)"
   ]
  },
  {
   "cell_type": "markdown",
   "id": "ed5e2e72",
   "metadata": {},
   "source": [
    "## Evaluate the prediction\n",
    "\n",
    "* Using MAE and MSE"
   ]
  },
  {
   "cell_type": "code",
   "execution_count": null,
   "id": "4537febd",
   "metadata": {},
   "outputs": [],
   "source": [
    "actual_values = test_data[prediction_column]\n",
    "predicted_values = test_data[target_column]"
   ]
  },
  {
   "cell_type": "code",
   "execution_count": null,
   "id": "d61fde1e",
   "metadata": {},
   "outputs": [],
   "source": [
    "mae = abs(actual_values - predicted_values).mean()\n",
    "print(mae)"
   ]
  },
  {
   "cell_type": "code",
   "execution_count": null,
   "id": "e438e60d",
   "metadata": {},
   "outputs": [],
   "source": [
    "mse = ((actual_values - predicted_values)**2).mean()\n",
    "print(mse)"
   ]
  },
  {
   "cell_type": "markdown",
   "id": "d5f5367f",
   "metadata": {},
   "source": [
    "# Run different model using bathrooms as feature"
   ]
  },
  {
   "cell_type": "code",
   "execution_count": 61,
   "id": "79a150f9",
   "metadata": {},
   "outputs": [
    {
     "data": {
      "text/html": [
       "<div>\n",
       "<style scoped>\n",
       "    .dataframe tbody tr th:only-of-type {\n",
       "        vertical-align: middle;\n",
       "    }\n",
       "\n",
       "    .dataframe tbody tr th {\n",
       "        vertical-align: top;\n",
       "    }\n",
       "\n",
       "    .dataframe thead th {\n",
       "        text-align: right;\n",
       "    }\n",
       "</style>\n",
       "<table border=\"1\" class=\"dataframe\">\n",
       "  <thead>\n",
       "    <tr style=\"text-align: right;\">\n",
       "      <th></th>\n",
       "      <th>price</th>\n",
       "      <th>accommodates</th>\n",
       "      <th>bathrooms</th>\n",
       "    </tr>\n",
       "  </thead>\n",
       "  <tbody>\n",
       "    <tr>\n",
       "      <th>0</th>\n",
       "      <td>160.0</td>\n",
       "      <td>4</td>\n",
       "      <td>1.0</td>\n",
       "    </tr>\n",
       "    <tr>\n",
       "      <th>1</th>\n",
       "      <td>350.0</td>\n",
       "      <td>6</td>\n",
       "      <td>3.0</td>\n",
       "    </tr>\n",
       "    <tr>\n",
       "      <th>2</th>\n",
       "      <td>50.0</td>\n",
       "      <td>1</td>\n",
       "      <td>2.0</td>\n",
       "    </tr>\n",
       "    <tr>\n",
       "      <th>3</th>\n",
       "      <td>95.0</td>\n",
       "      <td>2</td>\n",
       "      <td>1.0</td>\n",
       "    </tr>\n",
       "    <tr>\n",
       "      <th>4</th>\n",
       "      <td>50.0</td>\n",
       "      <td>4</td>\n",
       "      <td>1.0</td>\n",
       "    </tr>\n",
       "  </tbody>\n",
       "</table>\n",
       "</div>"
      ],
      "text/plain": [
       "   price  accommodates  bathrooms\n",
       "0  160.0             4        1.0\n",
       "1  350.0             6        3.0\n",
       "2   50.0             1        2.0\n",
       "3   95.0             2        1.0\n",
       "4   50.0             4        1.0"
      ]
     },
     "execution_count": 61,
     "metadata": {},
     "output_type": "execute_result"
    }
   ],
   "source": [
    "listings.head()"
   ]
  },
  {
   "cell_type": "markdown",
   "id": "b78d2b3d",
   "metadata": {},
   "source": [
    "## Get the data"
   ]
  },
  {
   "cell_type": "code",
   "execution_count": 87,
   "id": "62805f91",
   "metadata": {},
   "outputs": [],
   "source": [
    "# split the data\n",
    "train_data, test_data = train_test_split(listings, test_size=0.25)\n",
    "train_data = train_data.copy()\n",
    "test_data = test_data.copy()\n",
    "train_data_temp = train_data.head().copy()"
   ]
  },
  {
   "cell_type": "markdown",
   "id": "d99e48be",
   "metadata": {},
   "source": [
    "## Train the model"
   ]
  },
  {
   "cell_type": "code",
   "execution_count": 79,
   "id": "ab6676f1",
   "metadata": {},
   "outputs": [],
   "source": [
    "def predict_price(new_value, similarity_metric_column, data, target_column):\n",
    "    # calculate similarity metric\n",
    "    # train_data = data.copy()\n",
    "    train_data[similarity_metric_column] = train_data[feature_column].apply(lambda x: abs(x - new_value))\n",
    "    \n",
    "    # sort by similarity metric\n",
    "    train_data.sort_values(by=[similarity_metric_column], inplace=True)\n",
    "    train_data.reset_index(drop=True, inplace=True)\n",
    "    \n",
    "    # get mean of k\n",
    "    predicted_price = train_data.loc[0:k-1, target_column].mean()\n",
    "    \n",
    "    \n",
    "    return predicted_price"
   ]
  },
  {
   "cell_type": "code",
   "execution_count": 91,
   "id": "ff8dbf02",
   "metadata": {},
   "outputs": [],
   "source": [
    "def get_name_for_predicted_column(target_column, feature_name):\n",
    "    return target_column + '_predicted_' + feature_name"
   ]
  },
  {
   "cell_type": "code",
   "execution_count": 92,
   "id": "5cd3d6bf",
   "metadata": {},
   "outputs": [
    {
     "name": "stdout",
     "output_type": "stream",
     "text": [
      "using bathrooms\n",
      "using accommodates\n"
     ]
    }
   ],
   "source": [
    "k = 5\n",
    "target_column = 'price'\n",
    "\n",
    "features = ['bathrooms', 'accommodates']\n",
    "\n",
    "for feature in features:\n",
    "    print('using ' + feature)\n",
    "    \n",
    "    predicted_column = get_name_for_predicted_column(target_column, feature)\n",
    "    \n",
    "    test_data[predicted_column] = test_data[feature_column].apply(\n",
    "        predict_price\n",
    "        , args=('euclidean_distance', train_data, target_column)\n",
    "    )"
   ]
  },
  {
   "cell_type": "code",
   "execution_count": 93,
   "id": "764a0649",
   "metadata": {},
   "outputs": [
    {
     "data": {
      "text/html": [
       "<div>\n",
       "<style scoped>\n",
       "    .dataframe tbody tr th:only-of-type {\n",
       "        vertical-align: middle;\n",
       "    }\n",
       "\n",
       "    .dataframe tbody tr th {\n",
       "        vertical-align: top;\n",
       "    }\n",
       "\n",
       "    .dataframe thead th {\n",
       "        text-align: right;\n",
       "    }\n",
       "</style>\n",
       "<table border=\"1\" class=\"dataframe\">\n",
       "  <thead>\n",
       "    <tr style=\"text-align: right;\">\n",
       "      <th></th>\n",
       "      <th>price</th>\n",
       "      <th>accommodates</th>\n",
       "      <th>bathrooms</th>\n",
       "      <th>price_predicted_bathrooms</th>\n",
       "      <th>price_predicted_accommodates</th>\n",
       "    </tr>\n",
       "  </thead>\n",
       "  <tbody>\n",
       "    <tr>\n",
       "      <th>424</th>\n",
       "      <td>329.0</td>\n",
       "      <td>9</td>\n",
       "      <td>2.5</td>\n",
       "      <td>293.4</td>\n",
       "      <td>277.6</td>\n",
       "    </tr>\n",
       "    <tr>\n",
       "      <th>3478</th>\n",
       "      <td>94.0</td>\n",
       "      <td>3</td>\n",
       "      <td>1.0</td>\n",
       "      <td>148.8</td>\n",
       "      <td>212.2</td>\n",
       "    </tr>\n",
       "    <tr>\n",
       "      <th>812</th>\n",
       "      <td>72.0</td>\n",
       "      <td>2</td>\n",
       "      <td>1.0</td>\n",
       "      <td>88.8</td>\n",
       "      <td>120.6</td>\n",
       "    </tr>\n",
       "    <tr>\n",
       "      <th>534</th>\n",
       "      <td>45.0</td>\n",
       "      <td>2</td>\n",
       "      <td>1.0</td>\n",
       "      <td>122.6</td>\n",
       "      <td>117.6</td>\n",
       "    </tr>\n",
       "    <tr>\n",
       "      <th>2997</th>\n",
       "      <td>145.0</td>\n",
       "      <td>3</td>\n",
       "      <td>1.0</td>\n",
       "      <td>134.0</td>\n",
       "      <td>149.0</td>\n",
       "    </tr>\n",
       "  </tbody>\n",
       "</table>\n",
       "</div>"
      ],
      "text/plain": [
       "      price  accommodates  bathrooms  price_predicted_bathrooms  \\\n",
       "424   329.0             9        2.5                      293.4   \n",
       "3478   94.0             3        1.0                      148.8   \n",
       "812    72.0             2        1.0                       88.8   \n",
       "534    45.0             2        1.0                      122.6   \n",
       "2997  145.0             3        1.0                      134.0   \n",
       "\n",
       "      price_predicted_accommodates  \n",
       "424                          277.6  \n",
       "3478                         212.2  \n",
       "812                          120.6  \n",
       "534                          117.6  \n",
       "2997                         149.0  "
      ]
     },
     "execution_count": 93,
     "metadata": {},
     "output_type": "execute_result"
    }
   ],
   "source": [
    "test_data.head()"
   ]
  },
  {
   "cell_type": "markdown",
   "id": "49fb9d98",
   "metadata": {},
   "source": [
    "## Evaluate\n",
    "* MAE\n",
    "* MSE"
   ]
  },
  {
   "cell_type": "code",
   "execution_count": 105,
   "id": "157f462b",
   "metadata": {},
   "outputs": [],
   "source": [
    "evaluations = pd.DataFrame()\n",
    "\n",
    "for idx, feature_name in enumerate(features):\n",
    "    actual_values = test_data[target_column]\n",
    "    predicted_values = test_data[get_name_for_predicted_column(target_column, feature_name)]\n",
    "    \n",
    "    \n",
    "    mse = ((actual_values - predicted_values)**2).mean()\n",
    "    evaluations.loc[idx, 'feature'] = feature_name\n",
    "    evaluations.loc[idx, 'mae'] = abs(actual_values - predicted_values).mean()\n",
    "    evaluations.loc[idx, 'mse'] = mse\n",
    "    evaluations.loc[idx, 'rmse'] = math.sqrt(mse)"
   ]
  }
 ],
 "metadata": {
  "kernelspec": {
   "display_name": "Python 3",
   "language": "python",
   "name": "python3"
  },
  "language_info": {
   "codemirror_mode": {
    "name": "ipython",
    "version": 3
   },
   "file_extension": ".py",
   "mimetype": "text/x-python",
   "name": "python",
   "nbconvert_exporter": "python",
   "pygments_lexer": "ipython3",
   "version": "3.7.9"
  }
 },
 "nbformat": 4,
 "nbformat_minor": 5
}
