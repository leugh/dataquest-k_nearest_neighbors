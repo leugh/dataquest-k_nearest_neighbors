{
 "cells": [
  {
   "cell_type": "code",
   "execution_count": 1,
   "id": "bce4f9a5",
   "metadata": {},
   "outputs": [],
   "source": [
    "import pandas as pd\n",
    "import numpy as np\n",
    "from sklearn.utils import shuffle"
   ]
  },
  {
   "cell_type": "markdown",
   "id": "54e50a85",
   "metadata": {},
   "source": [
    "# Get the data"
   ]
  },
  {
   "cell_type": "code",
   "execution_count": 2,
   "id": "90db464d",
   "metadata": {},
   "outputs": [],
   "source": [
    "dc_listings = pd.read_csv('data/dc_airbnb.csv')"
   ]
  },
  {
   "cell_type": "markdown",
   "id": "c5e44125",
   "metadata": {},
   "source": [
    "# Predict"
   ]
  },
  {
   "cell_type": "code",
   "execution_count": 10,
   "id": "7308e63a",
   "metadata": {},
   "outputs": [],
   "source": [
    "def predict_price(bedrooms_new_listing, original_data, feature, metric_column_name='euclidean_distance'):\n",
    "    \"\"\"\n",
    "    new_listing int: describes the number of bedrooms\n",
    "    \"\"\"\n",
    "    df = original_data.copy()\n",
    "    df[metric_column_name] = abs(df[feature] - bedrooms_new_listing)\n",
    "    df.sort_values(by=[metric_column_name], inplace=True)\n",
    "    df.reset_index(drop=True, inplace=True)\n",
    "    predicted_price = df[[prediction_column]].loc[0:k-1][prediction_column].str.replace('$', '').astype(float).mean()\n",
    "    return predicted_price"
   ]
  },
  {
   "cell_type": "code",
   "execution_count": 11,
   "id": "c0dd4e34",
   "metadata": {},
   "outputs": [],
   "source": [
    "k = 5\n",
    "bedrooms_new_listing = 3\n",
    "feature = 'accommodates'\n",
    "metric_column_name = 'euclidean_distance'\n",
    "prediction_column = 'price'\n",
    "\n",
    "\n",
    "acc_one = predict_price(1, dc_listings, feature)\n",
    "acc_two = predict_price(2, dc_listings, feature)\n",
    "acc_four = predict_price(4, dc_listings, feature)"
   ]
  }
 ],
 "metadata": {
  "kernelspec": {
   "display_name": "Python 3",
   "language": "python",
   "name": "python3"
  },
  "language_info": {
   "codemirror_mode": {
    "name": "ipython",
    "version": 3
   },
   "file_extension": ".py",
   "mimetype": "text/x-python",
   "name": "python",
   "nbconvert_exporter": "python",
   "pygments_lexer": "ipython3",
   "version": "3.7.9"
  }
 },
 "nbformat": 4,
 "nbformat_minor": 5
}
