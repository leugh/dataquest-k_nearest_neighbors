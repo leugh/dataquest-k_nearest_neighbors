{
 "cells": [
  {
   "cell_type": "code",
   "execution_count": 1,
   "id": "bce4f9a5",
   "metadata": {},
   "outputs": [],
   "source": [
    "import pandas as pd\n",
    "import numpy as np\n",
    "from sklearn.model_selection import train_test_split"
   ]
  },
  {
   "cell_type": "markdown",
   "id": "54e50a85",
   "metadata": {},
   "source": [
    "# Get the data"
   ]
  },
  {
   "cell_type": "code",
   "execution_count": 2,
   "id": "90db464d",
   "metadata": {},
   "outputs": [],
   "source": [
    "listings = pd.read_csv('../data/dc_airbnb.csv')\n",
    "stripped_commas = listings['price'].str.replace(',', '')\n",
    "stripped_dollars = stripped_commas.str.replace('$', '')\n",
    "listings['price'] = stripped_dollars.astype('float')\n",
    "listings = listings[['price', 'accommodates']]"
   ]
  },
  {
   "cell_type": "markdown",
   "id": "c5e44125",
   "metadata": {},
   "source": [
    "# Version 1\n",
    "No evaluation"
   ]
  },
  {
   "cell_type": "code",
   "execution_count": 3,
   "id": "7308e63a",
   "metadata": {},
   "outputs": [],
   "source": [
    "def predict_price(bedrooms_new_listing, original_data, feature, metric_column_name='euclidean_distance'):\n",
    "    \"\"\"\n",
    "    new_listing int: describes the number of bedrooms\n",
    "    \"\"\"\n",
    "    df = original_data.copy()\n",
    "    df[metric_column_name] = abs(df[feature] - bedrooms_new_listing)\n",
    "    df.sort_values(by=[metric_column_name], inplace=True)\n",
    "    df.reset_index(drop=True, inplace=True)\n",
    "    predicted_price = df[[prediction_column]].loc[0:k-1][prediction_column].mean()\n",
    "    return predicted_price"
   ]
  },
  {
   "cell_type": "code",
   "execution_count": 4,
   "id": "c0dd4e34",
   "metadata": {},
   "outputs": [],
   "source": [
    "k = 5\n",
    "bedrooms_new_listing = 3\n",
    "feature = 'accommodates'\n",
    "metric_column_name = 'euclidean_distance'\n",
    "prediction_column = 'price'\n",
    "\n",
    "\n",
    "acc_one = predict_price(1, listings, feature)\n",
    "acc_two = predict_price(2, listings, feature)\n",
    "acc_four = predict_price(4, listings, feature)"
   ]
  },
  {
   "cell_type": "markdown",
   "id": "8384aec6",
   "metadata": {},
   "source": [
    "# Version 2\n",
    "* Based on Version 1 but with evaluation\n",
    "* Predict house prices in test set based on k in train\n",
    "\n",
    "## Steps\n",
    "1. Get train + test data\n",
    "2. Predict\n",
    "3. Evaluate"
   ]
  },
  {
   "cell_type": "markdown",
   "id": "7c23e2ce",
   "metadata": {},
   "source": [
    "## Define functions"
   ]
  },
  {
   "cell_type": "code",
   "execution_count": 5,
   "id": "ab14cbbf",
   "metadata": {},
   "outputs": [],
   "source": [
    "def predict_price(new_entry_feature_value):\n",
    "    # get similary\n",
    "    df = test_data.copy()\n",
    "    df[sim_metric] = abs(df[feature_column] - new_entry_feature_value)\n",
    "\n",
    "    # sort and get price based on top k\n",
    "    df.sort_values(by=[sim_metric], inplace=True)\n",
    "    df.reset_index(drop=True, inplace=True)\n",
    "    predicted_price = round(df.loc[0:k-1][prediction_column].mean())\n",
    "    \n",
    "    \n",
    "    return predicted_price"
   ]
  },
  {
   "cell_type": "markdown",
   "id": "2ae449c2",
   "metadata": {},
   "source": [
    "## Prepare the data"
   ]
  },
  {
   "cell_type": "code",
   "execution_count": 6,
   "id": "eaa8395c",
   "metadata": {},
   "outputs": [],
   "source": [
    "# split the data\n",
    "train_data, test_data = train_test_split(listings, test_size=0.25)\n",
    "train_data = train_data.copy()\n",
    "test_data = test_data.copy()"
   ]
  },
  {
   "cell_type": "markdown",
   "id": "6ee33503",
   "metadata": {},
   "source": [
    "## Setups"
   ]
  },
  {
   "cell_type": "code",
   "execution_count": 15,
   "id": "b05e22bb",
   "metadata": {},
   "outputs": [],
   "source": [
    "# setups\n",
    "feature_column = 'accommodates'\n",
    "new_entry_feature_value = 3\n",
    "k = 5\n",
    "sim_metric = 'distance'\n",
    "prediction_column = 'price'\n",
    "target_column = 'predicted_price'"
   ]
  },
  {
   "cell_type": "markdown",
   "id": "79ca0fde",
   "metadata": {},
   "source": [
    "## Performn the prediction"
   ]
  },
  {
   "cell_type": "code",
   "execution_count": 16,
   "id": "ff207fb8",
   "metadata": {},
   "outputs": [],
   "source": [
    "test_data[target_column] = test_data[feature_column].apply(predict_price)"
   ]
  },
  {
   "cell_type": "markdown",
   "id": "ec1b0cd6",
   "metadata": {},
   "source": [
    "## Evaluate the prediction\n",
    "\n",
    "* Using MAE and MSE"
   ]
  },
  {
   "cell_type": "code",
   "execution_count": 28,
   "id": "8e578cc1",
   "metadata": {},
   "outputs": [],
   "source": [
    "actual_values = test_data[prediction_column]\n",
    "predicted_values = test_data[target_column]"
   ]
  },
  {
   "cell_type": "code",
   "execution_count": 29,
   "id": "d61fde1e",
   "metadata": {},
   "outputs": [
    {
     "name": "stdout",
     "output_type": "stream",
     "text": [
      "58.21160042964554\n"
     ]
    }
   ],
   "source": [
    "mae = abs(actual_values - predicted_values).mean()\n",
    "print(mae)"
   ]
  },
  {
   "cell_type": "code",
   "execution_count": 35,
   "id": "4bd8bf57",
   "metadata": {},
   "outputs": [
    {
     "name": "stdout",
     "output_type": "stream",
     "text": [
      "13378.398496240601\n"
     ]
    }
   ],
   "source": [
    "mse = ((actual_values - predicted_values)**2).mean()\n",
    "print(mse)"
   ]
  },
  {
   "cell_type": "markdown",
   "id": "19d9bf25",
   "metadata": {},
   "source": [
    "# Run different model using bathrooms as feature"
   ]
  },
  {
   "cell_type": "code",
   "execution_count": null,
   "id": "2b60ccc1",
   "metadata": {},
   "outputs": [],
   "source": []
  },
  {
   "cell_type": "code",
   "execution_count": null,
   "id": "4d4e64e9",
   "metadata": {},
   "outputs": [],
   "source": []
  },
  {
   "cell_type": "code",
   "execution_count": null,
   "id": "2a5682ec",
   "metadata": {},
   "outputs": [],
   "source": []
  },
  {
   "cell_type": "code",
   "execution_count": null,
   "id": "1e13c139",
   "metadata": {},
   "outputs": [],
   "source": []
  },
  {
   "cell_type": "code",
   "execution_count": null,
   "id": "4f6a45bb",
   "metadata": {},
   "outputs": [],
   "source": []
  }
 ],
 "metadata": {
  "kernelspec": {
   "display_name": "Python 3",
   "language": "python",
   "name": "python3"
  },
  "language_info": {
   "codemirror_mode": {
    "name": "ipython",
    "version": 3
   },
   "file_extension": ".py",
   "mimetype": "text/x-python",
   "name": "python",
   "nbconvert_exporter": "python",
   "pygments_lexer": "ipython3",
   "version": "3.7.9"
  }
 },
 "nbformat": 4,
 "nbformat_minor": 5
}
