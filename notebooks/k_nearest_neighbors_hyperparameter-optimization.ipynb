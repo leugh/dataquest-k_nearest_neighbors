{
 "cells": [
  {
   "cell_type": "code",
   "execution_count": 1,
   "id": "1e03789a",
   "metadata": {},
   "outputs": [],
   "source": [
    "import pandas as pd\n",
    "from sklearn.neighbors import KNeighborsRegressor\n",
    "from sklearn.metrics import mean_squared_error\n",
    "import matplotlib.pyplot as plt"
   ]
  },
  {
   "cell_type": "markdown",
   "id": "707b0890",
   "metadata": {},
   "source": [
    "# Get the data"
   ]
  },
  {
   "cell_type": "code",
   "execution_count": 2,
   "id": "e0288d06",
   "metadata": {},
   "outputs": [],
   "source": [
    "train_df = pd.read_csv('../data/dc_airbnb_train.csv')\n",
    "test_df = pd.read_csv('../data/dc_airbnb_test.csv')"
   ]
  },
  {
   "cell_type": "markdown",
   "id": "208e04fe",
   "metadata": {},
   "source": [
    "# Perform hyperparameter optimization using grid search for k and features = ['accomodates', 'bedrooms', 'bathrooms', 'number_of_reviews']\n",
    "* k from 1 to 5 (in hyper_params)\n",
    "* use mse to measure (mse_values holds them all)\n",
    "* KNN algo = 'brute'\n",
    "* features = ['accomodates', 'bedrooms', 'bathrooms', 'number_of_reviews']"
   ]
  },
  {
   "cell_type": "markdown",
   "id": "d8cff69c",
   "metadata": {},
   "source": [
    "## General declarations"
   ]
  },
  {
   "cell_type": "code",
   "execution_count": 3,
   "id": "4cf79496",
   "metadata": {},
   "outputs": [],
   "source": [
    "features = ['accommodates', 'bedrooms', 'bathrooms', 'number_of_reviews']\n",
    "target_column = 'price'\n",
    "hyper_params = [x for x in range(1, 21)]\n",
    "\n",
    "mse_values = []"
   ]
  },
  {
   "cell_type": "markdown",
   "id": "9a9b68e1",
   "metadata": {},
   "source": [
    "## Performing and visualizing grid search"
   ]
  },
  {
   "cell_type": "code",
   "execution_count": 4,
   "id": "082b53f8",
   "metadata": {},
   "outputs": [],
   "source": [
    "for k in hyper_params:\n",
    "    knn = KNeighborsRegressor(n_neighbors=k, algorithm='brute')\n",
    "    knn.fit(train_df[features], train_df[target_column])\n",
    "    predicted_values = knn.predict(test_df[features])\n",
    "    mse = mean_squared_error(test_df[target_column], predicted_values)\n",
    "    mse_values.append(mse)"
   ]
  },
  {
   "cell_type": "code",
   "execution_count": 6,
   "id": "166b2d8f",
   "metadata": {},
   "outputs": [
    {
     "data": {
      "text/plain": [
       "<matplotlib.collections.PathCollection at 0x1d9b1dcd748>"
      ]
     },
     "execution_count": 6,
     "metadata": {},
     "output_type": "execute_result"
    },
    {
     "data": {
      "image/png": "[encoded data removed]",
      "text/plain": [
       "<Figure size 432x288 with 1 Axes>"
      ]
     },
     "metadata": {
      "needs_background": "light"
     },
     "output_type": "display_data"
    }
   ],
   "source": [
    "plt.scatter(hyper_params, mse_values)"
   ]
  },
  {
   "cell_type": "markdown",
   "id": "de50eb6b",
   "metadata": {},
   "source": [
    "# Perform hyperparameter optimization using grid search for k and all features"
   ]
  },
  {
   "cell_type": "code",
   "execution_count": 21,
   "id": "f9ef1fee",
   "metadata": {},
   "outputs": [],
   "source": [
    "features = train_df.columns.tolist()\n",
    "features.remove('price')\n",
    "hyper_params = [x for x in range(1, 21)]\n",
    "target_column = 'price'\n",
    "mse_values = list()"
   ]
  },
  {
   "cell_type": "code",
   "execution_count": 22,
   "id": "0430cbe0",
   "metadata": {},
   "outputs": [],
   "source": [
    "for k in hyper_params:\n",
    "    knn = KNeighborsRegressor(n_neighbors = k, algorithm='brute')\n",
    "    knn.fit(train_df[features], train_df[target_column])\n",
    "    prediction = knn.predict(test_df[features])\n",
    "    mse = mean_squared_error(test_df[target_column], prediction)\n",
    "    mse_values.append(mse)"
   ]
  },
  {
   "cell_type": "code",
   "execution_count": 23,
   "id": "d3b5bd15",
   "metadata": {},
   "outputs": [
    {
     "data": {
      "text/plain": [
       "<matplotlib.collections.PathCollection at 0x1d9b2197648>"
      ]
     },
     "execution_count": 23,
     "metadata": {},
     "output_type": "execute_result"
    },
    {
     "data": {
      "image/png": "[encoded data removed]",
      "text/plain": [
       "<Figure size 432x288 with 1 Axes>"
      ]
     },
     "metadata": {
      "needs_background": "light"
     },
     "output_type": "display_data"
    }
   ],
   "source": [
    "plt.scatter(hyper_params, mse_values)"
   ]
  },
  {
   "cell_type": "code",
   "execution_count": 28,
   "id": "0f3c1763",
   "metadata": {},
   "outputs": [
    {
     "data": {
      "text/plain": [
       "[23303.759954493744,\n",
       " 14917.940273037542,\n",
       " 15006.17772721527,\n",
       " 15449.652801478953,\n",
       " 15291.714448236631,\n",
       " 15477.23381999747,\n",
       " 14962.337558914352,\n",
       " 15127.307824943116,\n",
       " 15088.43767468644,\n",
       " 14827.991319681452,\n",
       " 14711.46334583815,\n",
       " 14804.073702755657,\n",
       " 14877.339789028683,\n",
       " 14972.467100833506,\n",
       " 14961.879393249905,\n",
       " 15071.084271011092,\n",
       " 15096.083824415131,\n",
       " 15256.588224553716,\n",
       " 15216.990416583942,\n",
       " 15211.60953924915]"
      ]
     },
     "execution_count": 28,
     "metadata": {},
     "output_type": "execute_result"
    }
   ],
   "source": [
    "mse_values"
   ]
  },
  {
   "cell_type": "code",
   "execution_count": null,
   "id": "1b90a7b1",
   "metadata": {},
   "outputs": [],
   "source": []
  }
 ],
 "metadata": {
  "kernelspec": {
   "display_name": "Python 3",
   "language": "python",
   "name": "python3"
  },
  "language_info": {
   "codemirror_mode": {
    "name": "ipython",
    "version": 3
   },
   "file_extension": ".py",
   "mimetype": "text/x-python",
   "name": "python",
   "nbconvert_exporter": "python",
   "pygments_lexer": "ipython3",
   "version": "3.7.9"
  }
 },
 "nbformat": 4,
 "nbformat_minor": 5
}
