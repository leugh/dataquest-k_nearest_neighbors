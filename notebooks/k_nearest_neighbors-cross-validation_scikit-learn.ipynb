{
 "cells": [
  {
   "cell_type": "markdown",
   "id": "1ad70faf",
   "metadata": {},
   "source": [
    "# Readme\n",
    "\n",
    "Use scikit's built-in classes/functions to performn k-fold cross validation on the dc_airbnb-data set\n",
    "\n",
    "## Used classes/functions\n",
    "* KFold\n",
    "* cross_val_score"
   ]
  },
  {
   "cell_type": "markdown",
   "id": "2d788d2d",
   "metadata": {},
   "source": [
    "***"
   ]
  },
  {
   "cell_type": "markdown",
   "id": "c9812ab4",
   "metadata": {},
   "source": [
    "# Imports"
   ]
  },
  {
   "cell_type": "code",
   "execution_count": 37,
   "id": "7400e20d",
   "metadata": {},
   "outputs": [],
   "source": [
    "from sklearn.model_selection import KFold\n",
    "from sklearn.neighbors import KNeighborsRegressor\n",
    "from sklearn.model_selection import cross_val_score\n",
    "\n",
    "import pandas as pd\n",
    "import numpy as np"
   ]
  },
  {
   "cell_type": "markdown",
   "id": "5f70fe0e",
   "metadata": {},
   "source": [
    "# Get the data"
   ]
  },
  {
   "cell_type": "code",
   "execution_count": 18,
   "id": "6cdd967b",
   "metadata": {},
   "outputs": [],
   "source": [
    "dc_airbnb = pd.read_csv('../data/normalized_listings.csv')\n",
    "dc_airbnb.drop(columns=['Unnamed: 0'], inplace=True)"
   ]
  },
  {
   "cell_type": "markdown",
   "id": "3dcde428",
   "metadata": {},
   "source": [
    "# Get the folds with\n",
    "* number_folds = 5\n",
    "* shuffle = True\n",
    "* random_seed = 1\n",
    "* set to kf"
   ]
  },
  {
   "cell_type": "code",
   "execution_count": 6,
   "id": "e6686d8e",
   "metadata": {},
   "outputs": [],
   "source": [
    "kf = KFold(n_splits = 5, shuffle=True, random_state=1)"
   ]
  },
  {
   "cell_type": "markdown",
   "id": "6c492edf",
   "metadata": {},
   "source": [
    "# Init the KNN-Regressor with default values\n",
    "set to knn"
   ]
  },
  {
   "cell_type": "code",
   "execution_count": 7,
   "id": "77221587",
   "metadata": {},
   "outputs": [],
   "source": [
    "knn = KNeighborsRegressor()"
   ]
  },
  {
   "cell_type": "markdown",
   "id": "c03ab982",
   "metadata": {},
   "source": [
    "# Evaluate using cross validation with\n",
    "* features = ['accommodates']\n",
    "* target_column = 'price'\n",
    "* error_metric = 'neg_mean_squared_error'\n",
    "* assign error values to mses = list()\n",
    "* get avg_rmse"
   ]
  },
  {
   "cell_type": "code",
   "execution_count": 29,
   "id": "a82917bf",
   "metadata": {},
   "outputs": [],
   "source": [
    "neg_mses = cross_val_score(knn, dc_airbnb[['accommodates']], dc_airbnb[['price']], scoring='neg_mean_squared_error', cv=kf)"
   ]
  },
  {
   "cell_type": "code",
   "execution_count": 39,
   "id": "7b8fe0fd",
   "metadata": {},
   "outputs": [
    {
     "name": "stdout",
     "output_type": "stream",
     "text": [
      "130.80233363091628\n"
     ]
    }
   ],
   "source": [
    "avg_rmse = np.mean(abs(neg_mses)**(1/2))\n",
    "\n",
    "print(avg_rmse)"
   ]
  },
  {
   "cell_type": "code",
   "execution_count": null,
   "id": "cc9f546c",
   "metadata": {},
   "outputs": [],
   "source": []
  },
  {
   "cell_type": "code",
   "execution_count": null,
   "id": "5ce96f51",
   "metadata": {},
   "outputs": [],
   "source": []
  },
  {
   "cell_type": "code",
   "execution_count": null,
   "id": "4b700b51",
   "metadata": {},
   "outputs": [],
   "source": []
  },
  {
   "cell_type": "code",
   "execution_count": null,
   "id": "d862ef8f",
   "metadata": {},
   "outputs": [],
   "source": []
  },
  {
   "cell_type": "code",
   "execution_count": null,
   "id": "e901dd28",
   "metadata": {},
   "outputs": [],
   "source": []
  },
  {
   "cell_type": "code",
   "execution_count": null,
   "id": "15c70062",
   "metadata": {},
   "outputs": [],
   "source": []
  },
  {
   "cell_type": "code",
   "execution_count": null,
   "id": "f13491e0",
   "metadata": {},
   "outputs": [],
   "source": []
  },
  {
   "cell_type": "code",
   "execution_count": null,
   "id": "be899320",
   "metadata": {},
   "outputs": [],
   "source": []
  },
  {
   "cell_type": "code",
   "execution_count": null,
   "id": "039984c1",
   "metadata": {},
   "outputs": [],
   "source": []
  },
  {
   "cell_type": "code",
   "execution_count": null,
   "id": "bf20d851",
   "metadata": {},
   "outputs": [],
   "source": []
  },
  {
   "cell_type": "code",
   "execution_count": null,
   "id": "1ed16487",
   "metadata": {},
   "outputs": [],
   "source": []
  }
 ],
 "metadata": {
  "kernelspec": {
   "display_name": "Python 3",
   "language": "python",
   "name": "python3"
  },
  "language_info": {
   "codemirror_mode": {
    "name": "ipython",
    "version": 3
   },
   "file_extension": ".py",
   "mimetype": "text/x-python",
   "name": "python",
   "nbconvert_exporter": "python",
   "pygments_lexer": "ipython3",
   "version": "3.7.9"
  }
 },
 "nbformat": 4,
 "nbformat_minor": 5
}
